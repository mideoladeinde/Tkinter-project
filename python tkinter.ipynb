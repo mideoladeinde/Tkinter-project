{
 "cells": [
  {
   "cell_type": "code",
   "execution_count": null,
   "id": "55e936d2-1f5f-41a4-bc83-4409fb7debad",
   "metadata": {},
   "outputs": [],
   "source": [
    "#python Tkinter syntax\n",
    "from tkinter import *\n",
    "\n",
    "top = Tk()\n",
    "\n",
    "top.mainloop()"
   ]
  },
  {
   "cell_type": "markdown",
   "id": "6289b80c-6b2c-449e-ae4b-320b3e4aff0c",
   "metadata": {},
   "source": [
    "python tkinter geomentry"
   ]
  },
  {
   "cell_type": "markdown",
   "id": "547e107c-94c7-4a29-b8f5-c514078c5cc2",
   "metadata": {
    "vscode": {
     "languageId": "raw"
    }
   },
   "source": [
    "this specifies the method by using any of the widgets represened on display \n",
    "the python tkinter provides the following geomentry\n",
    "* pack method\n",
    "* grid method \n",
    "* place method"
   ]
  },
  {
   "cell_type": "markdown",
   "id": "088ff212-fba7-4b6c-a29e-7e4d2e42fe0f",
   "metadata": {},
   "source": [
    "Pack method:                                                                                                        \n",
    "this method id used to organize widgets in a block\n",
    "the positions widget added to the python application using the pac method can be conntolled by using the various options specified in th method call;"
   ]
  },
  {
   "cell_type": "code",
   "execution_count": null,
   "id": "0e12fa86",
   "metadata": {},
   "outputs": [],
   "source": [
    "#syntax for Pack Method\n",
    "widget.pack(options)"
   ]
  },
  {
   "cell_type": "code",
   "execution_count": null,
   "id": "b6cb150c-0bdc-4ac1-a74d-c1e161b839ea",
   "metadata": {},
   "outputs": [],
   "source": [
    "#Example\n",
    "from tkinter import *\n",
    "top = Tk()\n",
    "\n",
    "red_button = Button(top,text = 'red', fg = 'red')\n",
    "red_button.pack(side = LEFT)\n",
    "\n",
    "green_button = Button(top,text = 'green', fg = 'green')\n",
    "green_button.pack(side = RIGHT)\n",
    "\n",
    "black_button = Button(top,text = 'black', fg = 'black')\n",
    "black_button.pack(side = BOTTOM)\n",
    "\n",
    "yellow_button = Button(top,text = 'yellow', fg = 'yellow')\n",
    "yellow_button.pack(side = TOP)\n",
    "\n",
    "top.mainloop()"
   ]
  },
  {
   "cell_type": "markdown",
   "id": "33043217",
   "metadata": {},
   "source": [
    "Grid method:                                                                                                \n",
    "the Grid geometry manager organize the widget in a taskbar form, we can specify the rows and column as options in the method call, we can also specify the column span which is the width and the row span which is the height of the widget.\n",
    "\n",
    "Possible options that can be passed into the grid method;\n",
    "1. column: the column no, in which the widget is to be placed, the left most column is represented by zero.\n",
    "2. column span: the width of the widget, it represents the number of columns up to which the column is expanded.\n",
    "3. ipadx, ipady: it represents the no. of pixels to pad the widget inside the widget boarder.\n",
    "4. padx, pady: represnets the no. of pixels to pad the widget outside the widget boarder.\n",
    "5. row: the row no. in which the widget is to be placed , the topmost row is represented by zero.\n",
    "6. row span: is the height of the widget, it represents the number of columns up to which the row is expanded.\n",
    "7. sticky: sss"
   ]
  },
  {
   "cell_type": "code",
   "execution_count": null,
   "id": "7957190a",
   "metadata": {},
   "outputs": [],
   "source": [
    "#syntax for Grid Method\n",
    "widget.grid(options)"
   ]
  },
  {
   "cell_type": "code",
   "execution_count": null,
   "id": "71fb7514",
   "metadata": {},
   "outputs": [],
   "source": [
    "from tkinter import *\n",
    "top = Tk()\n",
    "username = Label(top,text = 'USERNAME').grid(row = 0 , column = 0)\n",
    "entry1 = Entry(top).grid(row = 0, column = 1)\n",
    "password = Label(top, text = 'PASSWORD').grid(row = 1, column = 0)\n",
    "entry2 = Entry(top).grid(row = 1, column = 1)\n",
    "button = Button(top, text = 'login').grid(row = 2, column = 1)\n",
    "top.mainloop()\n"
   ]
  },
  {
   "cell_type": "markdown",
   "id": "bde77397",
   "metadata": {},
   "source": [
    "Place Method:                                                                                                   \n",
    "it organizes the widget to a specific x and y coordinate\n",
    "\n",
    "certain options you can use;\n",
    "1. anchor: this represents the exact position of the widget within the container. the default value is \"NY\" which is the upper left conner.\n",
    "2. Boarder mode: the default value of the boarder value is inside, it refes to ignore the parent inside the boarder.\n",
    "3. Height, width: this refers to the height and width in pixels.\n",
    "4. relHight, relWidth: it is represented as a float between 0.0 and 1.0 indicating the fraction of the parent height and the width.\n",
    "5. relx, rely: it represented as a float between 0.0 and 1.0 that is the offset in the horizontal and vertical direction.\n",
    "6. x, y: it refers to the horizontal and vertical direction in pixels."
   ]
  },
  {
   "cell_type": "code",
   "execution_count": null,
   "id": "3e9bc8e3",
   "metadata": {},
   "outputs": [],
   "source": [
    "#syntax for Place Method\n",
    "widget.place(options)"
   ]
  },
  {
   "cell_type": "code",
   "execution_count": 1,
   "id": "ffaa473b",
   "metadata": {},
   "outputs": [],
   "source": [
    "from tkinter import *\n",
    "top = Tk()\n",
    "top.geometry('400x250')\n",
    "username = Label(top, text = 'USERNAME').place(x = 30, y = 50)\n",
    "entry1 = Entry(top).place(x = 100, y = 50)\n",
    "email = Label(top, text = 'EMAIL').place(x = 30, y = 90)\n",
    "entry2 = Entry(top).place(x = 100, y = 90) \n",
    "password = Label(top, text = 'PASSWORD').place(x = 30, y = 130)\n",
    "entry3 = Entry(top).place(x = 100, y = 130)\n",
    "button = Button(top, text = 'login').place(x = 130, y = 160)\n",
    "top.mainloop()"
   ]
  },
  {
   "cell_type": "code",
   "execution_count": 2,
   "id": "9598938e",
   "metadata": {},
   "outputs": [],
   "source": [
    "#Classwork\n",
    "import tkinter as tk\n",
    "from tkinter import messagebox\n",
    "\n",
    "def add():\n",
    "    no1 = entry1.get()\n",
    "    no2 = entry2.get()\n",
    "\n",
    "    if no1 == \"\" or no2 == \"\":\n",
    "        messagebox.showinfo(\"error\",\"please input values\")\n",
    "    else:\n",
    "        result = float(no1) + float(no2)\n",
    "        anlabel.config(text = result)\n",
    "\n",
    "\n",
    "top = tk.Tk()\n",
    "\n",
    "no1 = tk.Label(top,text = 'no 1')\n",
    "no1.grid(row = 0 , column = 0)\n",
    "entry1 = tk.Entry(top)\n",
    "entry1.grid(row = 0, column = 1)\n",
    "\n",
    "no2 = tk.Label(top, text = 'no 2')\n",
    "no2.grid(row = 1, column = 0)\n",
    "entry2 = tk.Entry(top)\n",
    "entry2.grid(row = 1, column = 1)\n",
    "\n",
    "button = tk.Button(top, text = 'add', command = add)\n",
    "button.grid(row = 2, column = 1)\n",
    "\n",
    "result = tk.Label(top,text = 'Result =')\n",
    "result.grid(row = 3, column = 0)\n",
    "\n",
    "anlabel = tk.Label(top, text = '__')\n",
    "anlabel.grid(row = 3, column = 1)\n",
    "\n",
    "top.mainloop()\n"
   ]
  },
  {
   "cell_type": "code",
   "execution_count": null,
   "id": "0f55f461",
   "metadata": {},
   "outputs": [],
   "source": []
  }
 ],
 "metadata": {
  "kernelspec": {
   "display_name": "Python 3 (ipykernel)",
   "language": "python",
   "name": "python3"
  },
  "language_info": {
   "codemirror_mode": {
    "name": "ipython",
    "version": 3
   },
   "file_extension": ".py",
   "mimetype": "text/x-python",
   "name": "python",
   "nbconvert_exporter": "python",
   "pygments_lexer": "ipython3",
   "version": "3.12.4"
  }
 },
 "nbformat": 4,
 "nbformat_minor": 5
}
